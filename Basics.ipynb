{
 "cells": [
  {
   "cell_type": "markdown",
   "metadata": {},
   "source": [
    "# Answering Business Questions using SQL"
   ]
  },
  {
   "cell_type": "code",
   "execution_count": 2,
   "metadata": {
    "collapsed": true
   },
   "outputs": [],
   "source": [
    "import sqlite3\n",
    "import pandas as pd\n",
    "import matplotlib.pyplot as plt\n",
    "%matplotlib inline"
   ]
  },
  {
   "cell_type": "code",
   "execution_count": 3,
   "metadata": {
    "collapsed": true
   },
   "outputs": [],
   "source": [
    "# helper function to quickly run queries and display as dataframes\n",
    "\n",
    "def run_query(q):\n",
    "    with sqlite3.connect('chinook.db') as conn:\n",
    "        return pd.read_sql_query(q, conn)"
   ]
  },
  {
   "cell_type": "code",
   "execution_count": 4,
   "metadata": {
    "collapsed": true
   },
   "outputs": [],
   "source": [
    "# helper function to quickly run SQL commands that wouldn't return dataframes\n",
    "\n",
    "def run_command(q):\n",
    "    with sqlite3.connect('chinook.db') as conn:\n",
    "        conn.isolation_level = None\n",
    "        conn.execute(q)"
   ]
  },
  {
   "cell_type": "code",
   "execution_count": 5,
   "metadata": {
    "collapsed": true
   },
   "outputs": [],
   "source": [
    "# helper function to display existing tables & views in the database\n",
    "\n",
    "def show_tables():\n",
    "    q = 'SELECT name, type FROM sqlite_master WHERE type IN (\"table\", \"view\")'\n",
    "    return run_query(q)"
   ]
  },
  {
   "cell_type": "code",
   "execution_count": 6,
   "metadata": {
    "collapsed": false
   },
   "outputs": [
    {
     "data": {
      "text/html": [
       "<div>\n",
       "<style scoped>\n",
       "    .dataframe tbody tr th:only-of-type {\n",
       "        vertical-align: middle;\n",
       "    }\n",
       "\n",
       "    .dataframe tbody tr th {\n",
       "        vertical-align: top;\n",
       "    }\n",
       "\n",
       "    .dataframe thead th {\n",
       "        text-align: right;\n",
       "    }\n",
       "</style>\n",
       "<table border=\"1\" class=\"dataframe\">\n",
       "  <thead>\n",
       "    <tr style=\"text-align: right;\">\n",
       "      <th></th>\n",
       "      <th>name</th>\n",
       "      <th>type</th>\n",
       "    </tr>\n",
       "  </thead>\n",
       "  <tbody>\n",
       "    <tr>\n",
       "      <th>0</th>\n",
       "      <td>album</td>\n",
       "      <td>table</td>\n",
       "    </tr>\n",
       "    <tr>\n",
       "      <th>1</th>\n",
       "      <td>artist</td>\n",
       "      <td>table</td>\n",
       "    </tr>\n",
       "    <tr>\n",
       "      <th>2</th>\n",
       "      <td>customer</td>\n",
       "      <td>table</td>\n",
       "    </tr>\n",
       "    <tr>\n",
       "      <th>3</th>\n",
       "      <td>employee</td>\n",
       "      <td>table</td>\n",
       "    </tr>\n",
       "    <tr>\n",
       "      <th>4</th>\n",
       "      <td>genre</td>\n",
       "      <td>table</td>\n",
       "    </tr>\n",
       "    <tr>\n",
       "      <th>5</th>\n",
       "      <td>invoice</td>\n",
       "      <td>table</td>\n",
       "    </tr>\n",
       "    <tr>\n",
       "      <th>6</th>\n",
       "      <td>invoice_line</td>\n",
       "      <td>table</td>\n",
       "    </tr>\n",
       "    <tr>\n",
       "      <th>7</th>\n",
       "      <td>media_type</td>\n",
       "      <td>table</td>\n",
       "    </tr>\n",
       "    <tr>\n",
       "      <th>8</th>\n",
       "      <td>playlist</td>\n",
       "      <td>table</td>\n",
       "    </tr>\n",
       "    <tr>\n",
       "      <th>9</th>\n",
       "      <td>playlist_track</td>\n",
       "      <td>table</td>\n",
       "    </tr>\n",
       "    <tr>\n",
       "      <th>10</th>\n",
       "      <td>track</td>\n",
       "      <td>table</td>\n",
       "    </tr>\n",
       "    <tr>\n",
       "      <th>11</th>\n",
       "      <td>sales_per_customer</td>\n",
       "      <td>view</td>\n",
       "    </tr>\n",
       "  </tbody>\n",
       "</table>\n",
       "</div>"
      ],
      "text/plain": [
       "                  name   type\n",
       "0                album  table\n",
       "1               artist  table\n",
       "2             customer  table\n",
       "3             employee  table\n",
       "4                genre  table\n",
       "5              invoice  table\n",
       "6         invoice_line  table\n",
       "7           media_type  table\n",
       "8             playlist  table\n",
       "9       playlist_track  table\n",
       "10               track  table\n",
       "11  sales_per_customer   view"
      ]
     },
     "execution_count": 6,
     "metadata": {},
     "output_type": "execute_result"
    }
   ],
   "source": [
    "show_tables()"
   ]
  },
  {
   "cell_type": "markdown",
   "metadata": {},
   "source": [
    "## Selecting Albums to Purchase\n",
    "\n",
    "The Chinook record store has just signed a deal with a new record label, and we've been tasked with selecting the first three albums that will be added to the store, from a list of four. All four albums are by artists that don't have any tracks in the store right now - we have the artist names, and the genre of music they produce.\n",
    "\n",
    "| Artist Name | Genre |\n",
    "|-------|-------|\n",
    "| Regal | Hip-Hop |\n",
    "| Red Tone | Punk |\n",
    "| Meteor and the Girls | Pop |\n",
    "| Slim Jim Bites | Blues |\n",
    "\n",
    "The record label specializes in artists from the USA, and they have given Chinook some money to advertise the new albums in the USA, so we're interested in finding out which genres sell the best in the USA."
   ]
  },
  {
   "cell_type": "code",
   "execution_count": 7,
   "metadata": {
    "collapsed": false
   },
   "outputs": [
    {
     "data": {
      "text/html": [
       "<div>\n",
       "<style scoped>\n",
       "    .dataframe tbody tr th:only-of-type {\n",
       "        vertical-align: middle;\n",
       "    }\n",
       "\n",
       "    .dataframe tbody tr th {\n",
       "        vertical-align: top;\n",
       "    }\n",
       "\n",
       "    .dataframe thead th {\n",
       "        text-align: right;\n",
       "    }\n",
       "</style>\n",
       "<table border=\"1\" class=\"dataframe\">\n",
       "  <thead>\n",
       "    <tr style=\"text-align: right;\">\n",
       "      <th></th>\n",
       "      <th>tracks_sold</th>\n",
       "      <th>pct_of_total</th>\n",
       "    </tr>\n",
       "    <tr>\n",
       "      <th>genre</th>\n",
       "      <th></th>\n",
       "      <th></th>\n",
       "    </tr>\n",
       "  </thead>\n",
       "  <tbody>\n",
       "    <tr>\n",
       "      <th>Rock</th>\n",
       "      <td>561</td>\n",
       "      <td>0.533777</td>\n",
       "    </tr>\n",
       "    <tr>\n",
       "      <th>Alternative &amp; Punk</th>\n",
       "      <td>130</td>\n",
       "      <td>0.123692</td>\n",
       "    </tr>\n",
       "    <tr>\n",
       "      <th>Metal</th>\n",
       "      <td>124</td>\n",
       "      <td>0.117983</td>\n",
       "    </tr>\n",
       "    <tr>\n",
       "      <th>R&amp;B/Soul</th>\n",
       "      <td>53</td>\n",
       "      <td>0.050428</td>\n",
       "    </tr>\n",
       "    <tr>\n",
       "      <th>Blues</th>\n",
       "      <td>36</td>\n",
       "      <td>0.034253</td>\n",
       "    </tr>\n",
       "    <tr>\n",
       "      <th>Alternative</th>\n",
       "      <td>35</td>\n",
       "      <td>0.033302</td>\n",
       "    </tr>\n",
       "    <tr>\n",
       "      <th>Latin</th>\n",
       "      <td>22</td>\n",
       "      <td>0.020932</td>\n",
       "    </tr>\n",
       "    <tr>\n",
       "      <th>Pop</th>\n",
       "      <td>22</td>\n",
       "      <td>0.020932</td>\n",
       "    </tr>\n",
       "    <tr>\n",
       "      <th>Hip Hop/Rap</th>\n",
       "      <td>20</td>\n",
       "      <td>0.019029</td>\n",
       "    </tr>\n",
       "    <tr>\n",
       "      <th>Jazz</th>\n",
       "      <td>14</td>\n",
       "      <td>0.013321</td>\n",
       "    </tr>\n",
       "    <tr>\n",
       "      <th>Easy Listening</th>\n",
       "      <td>13</td>\n",
       "      <td>0.012369</td>\n",
       "    </tr>\n",
       "    <tr>\n",
       "      <th>Reggae</th>\n",
       "      <td>6</td>\n",
       "      <td>0.005709</td>\n",
       "    </tr>\n",
       "    <tr>\n",
       "      <th>Electronica/Dance</th>\n",
       "      <td>5</td>\n",
       "      <td>0.004757</td>\n",
       "    </tr>\n",
       "    <tr>\n",
       "      <th>Classical</th>\n",
       "      <td>4</td>\n",
       "      <td>0.003806</td>\n",
       "    </tr>\n",
       "    <tr>\n",
       "      <th>Heavy Metal</th>\n",
       "      <td>3</td>\n",
       "      <td>0.002854</td>\n",
       "    </tr>\n",
       "    <tr>\n",
       "      <th>Soundtrack</th>\n",
       "      <td>2</td>\n",
       "      <td>0.001903</td>\n",
       "    </tr>\n",
       "    <tr>\n",
       "      <th>TV Shows</th>\n",
       "      <td>1</td>\n",
       "      <td>0.000951</td>\n",
       "    </tr>\n",
       "  </tbody>\n",
       "</table>\n",
       "</div>"
      ],
      "text/plain": [
       "                    tracks_sold  pct_of_total\n",
       "genre                                        \n",
       "Rock                        561      0.533777\n",
       "Alternative & Punk          130      0.123692\n",
       "Metal                       124      0.117983\n",
       "R&B/Soul                     53      0.050428\n",
       "Blues                        36      0.034253\n",
       "Alternative                  35      0.033302\n",
       "Latin                        22      0.020932\n",
       "Pop                          22      0.020932\n",
       "Hip Hop/Rap                  20      0.019029\n",
       "Jazz                         14      0.013321\n",
       "Easy Listening               13      0.012369\n",
       "Reggae                        6      0.005709\n",
       "Electronica/Dance             5      0.004757\n",
       "Classical                     4      0.003806\n",
       "Heavy Metal                   3      0.002854\n",
       "Soundtrack                    2      0.001903\n",
       "TV Shows                      1      0.000951"
      ]
     },
     "execution_count": 7,
     "metadata": {},
     "output_type": "execute_result"
    }
   ],
   "source": [
    "tracks_sold_per_genre = \"\"\"\n",
    "WITH\n",
    "    track_genres AS\n",
    "        (\n",
    "            SELECT\n",
    "                t.track_id,\n",
    "                g.genre_id,\n",
    "                g.name\n",
    "            FROM track t\n",
    "            LEFT JOIN genre g ON t.genre_id = g.genre_id\n",
    "        ),\n",
    "    invoice_tracks_usa AS\n",
    "        (\n",
    "            SELECT\n",
    "                il.invoice_line_id,\n",
    "                il.track_id\n",
    "            FROM invoice_line il\n",
    "            LEFT JOIN invoice i ON il.invoice_id = i.invoice_id\n",
    "            WHERE i.billing_country = 'USA'\n",
    "        )\n",
    "\n",
    "SELECT\n",
    "    g.name genre,\n",
    "    COUNT(g.name) tracks_sold,\n",
    "    CAST(COUNT(g.name) AS FLOAT) / CAST((SELECT COUNT(*) FROM invoice_tracks_usa) AS FLOAT) pct_of_total\n",
    "FROM invoice_tracks_usa t\n",
    "LEFT JOIN track_genres g ON t.track_id = g.track_id\n",
    "GROUP BY 1\n",
    "ORDER BY 2 DESC\n",
    "\n",
    "\"\"\"\n",
    "\n",
    "genre_sales_usa = run_query(tracks_sold_per_genre)\n",
    "genre_sales_usa = genre_sales_usa.set_index('genre')\n",
    "genre_sales_usa"
   ]
  },
  {
   "cell_type": "code",
   "execution_count": 8,
   "metadata": {
    "collapsed": false
   },
   "outputs": [
    {
     "data": {
      "text/plain": [
       "<matplotlib.axes._subplots.AxesSubplot at 0x7efc8e867630>"
      ]
     },
     "execution_count": 8,
     "metadata": {},
     "output_type": "execute_result"
    },
    {
     "data": {
      "image/png": "[encoded data removed]",
      "text/plain": [
       "<matplotlib.figure.Figure at 0x7efc8e8b5f98>"
      ]
     },
     "metadata": {},
     "output_type": "display_data"
    }
   ],
   "source": [
    "genre_sales_usa.plot.barh(y='tracks_sold', figsize=(10,6), color='orange')"
   ]
  },
  {
   "cell_type": "markdown",
   "metadata": {},
   "source": [
    "As we can see above, the Rock genre sold far and away the most tracks in the USA.  However, none of the 4 artists we're selecting from fall within that genre.  Looking further down the list, we see that, of the 4 genres we're looking to select from, Punk (Alternative & Punk) is second.  Blues is next, followed by Pop, and then Hip-Hop.  Pop and Hip-Hop are close (separated by only 2 tracks sold, or ~0.1%), but Pop does win out here.\n",
    "\n",
    "As a result, the recommendation of the first 3 artists whose albums we should list in our store are Red Tone (Punk), Slim Jim Bites (Blues), and Meteor and the Girls (Pop)."
   ]
  },
  {
   "cell_type": "markdown",
   "metadata": {},
   "source": [
    "## Analyzing Employee Sales Performance\n",
    "\n",
    "Each customer for the Chinook store gets assigned to a sales support agent within the company when they first make a purchase. We have been asked to analyze the purchases of customers belonging to each employee to see if any sales support agent is performing either better or worse than the others.\n",
    "\n",
    "Given that total sales is a historical value, and can be affected by the amount of time an employee has been with the organization, we'll include the `hire_date` column from the employee data when looking at sales support agents and their associated sales."
   ]
  },
  {
   "cell_type": "code",
   "execution_count": 9,
   "metadata": {
    "collapsed": false
   },
   "outputs": [
    {
     "ename": "OperationalError",
     "evalue": "table sales_per_customer already exists",
     "output_type": "error",
     "traceback": [
      "\u001b[1;31m\u001b[0m",
      "\u001b[1;31mOperationalError\u001b[0mTraceback (most recent call last)",
      "\u001b[1;32m<ipython-input-9-32b14e306a88>\u001b[0m in \u001b[0;36m<module>\u001b[1;34m()\u001b[0m\n\u001b[0;32m     15\u001b[0m \"\"\"\n\u001b[0;32m     16\u001b[0m \u001b[1;33m\u001b[0m\u001b[0m\n\u001b[1;32m---> 17\u001b[1;33m \u001b[0mrun_command\u001b[0m\u001b[1;33m(\u001b[0m\u001b[0msales_per_customer_view\u001b[0m\u001b[1;33m)\u001b[0m\u001b[1;33m\u001b[0m\u001b[0m\n\u001b[0m",
      "\u001b[1;32m<ipython-input-4-b52f8d90b534>\u001b[0m in \u001b[0;36mrun_command\u001b[1;34m(q)\u001b[0m\n\u001b[0;32m      4\u001b[0m     \u001b[1;32mwith\u001b[0m \u001b[0msqlite3\u001b[0m\u001b[1;33m.\u001b[0m\u001b[0mconnect\u001b[0m\u001b[1;33m(\u001b[0m\u001b[1;34m'chinook.db'\u001b[0m\u001b[1;33m)\u001b[0m \u001b[1;32mas\u001b[0m \u001b[0mconn\u001b[0m\u001b[1;33m:\u001b[0m\u001b[1;33m\u001b[0m\u001b[0m\n\u001b[0;32m      5\u001b[0m         \u001b[0mconn\u001b[0m\u001b[1;33m.\u001b[0m\u001b[0misolation_level\u001b[0m \u001b[1;33m=\u001b[0m \u001b[1;32mNone\u001b[0m\u001b[1;33m\u001b[0m\u001b[0m\n\u001b[1;32m----> 6\u001b[1;33m         \u001b[0mconn\u001b[0m\u001b[1;33m.\u001b[0m\u001b[0mexecute\u001b[0m\u001b[1;33m(\u001b[0m\u001b[0mq\u001b[0m\u001b[1;33m)\u001b[0m\u001b[1;33m\u001b[0m\u001b[0m\n\u001b[0m",
      "\u001b[1;31mOperationalError\u001b[0m: table sales_per_customer already exists"
     ]
    }
   ],
   "source": [
    "# create a 'total sales per customer' view in the database for use now and later\n",
    "\n",
    "sales_per_customer_view = \"\"\"\n",
    "CREATE VIEW sales_per_customer AS\n",
    "SELECT\n",
    "    c.customer_id,\n",
    "    c.first_name || ' ' || c.last_name customer_name,\n",
    "    c.country,\n",
    "    c.support_rep_id,\n",
    "    TOTAL(i.total) total_spent,\n",
    "    COUNT(i.invoice_id) num_purchases\n",
    "FROM invoice i\n",
    "INNER JOIN customer c ON c.customer_id = i.customer_id\n",
    "GROUP BY 1\n",
    "\"\"\"\n",
    "\n",
    "run_command(sales_per_customer_view)"
   ]
  },
  {
   "cell_type": "code",
   "execution_count": null,
   "metadata": {
    "collapsed": false
   },
   "outputs": [],
   "source": [
    "run_query('SELECT * FROM sales_per_customer LIMIT 10')"
   ]
  },
  {
   "cell_type": "code",
   "execution_count": null,
   "metadata": {
    "collapsed": false
   },
   "outputs": [],
   "source": [
    "sales_per_rep = \"\"\"\n",
    "SELECT\n",
    "    e.employee_id,\n",
    "    e.first_name || ' ' || e.last_name employee_name,\n",
    "    e.hire_date,\n",
    "    TOTAL(s.total_spent) total_sales\n",
    "FROM sales_per_customer s\n",
    "LEFT JOIN employee e ON e.employee_id = s.support_rep_id\n",
    "GROUP BY 1\n",
    "\"\"\"\n",
    "\n",
    "spr = run_query(sales_per_rep)\n",
    "spr"
   ]
  },
  {
   "cell_type": "code",
   "execution_count": null,
   "metadata": {
    "collapsed": false
   },
   "outputs": [],
   "source": [
    "spr.plot.barh(x='employee_name', y='total_sales', figsize=(10,6))"
   ]
  },
  {
   "cell_type": "markdown",
   "metadata": {},
   "source": [
    "At first glance, it appears that, of the 3 sales support agents, Jane Peacock demonstrates the highest performance (followed by Margaret Park and then Steve Johnson) based on total sales.\n",
    "\n",
    "However, looking more closely at the hire dates, we can also see that Jane Peacock is the longest-tenured rep, having been employeed about a month longer than Margaret Park, and about 6.5 months longer than Steve Johnson.  As a result, we can point to differences in employment length as the primary factor in total sales differences between the reps."
   ]
  },
  {
   "cell_type": "markdown",
   "metadata": {},
   "source": [
    "## Analyzing Sales by Country\n",
    "\n",
    "Our next task is to analyze the sales data for customers from each different country. We have been given guidance to use the country value from the `customers` table, and ignore the country from the billing address in the `invoice` table.\n",
    "\n",
    "In particular, we have been directed to calculate data, for each country, on the:\n",
    "\n",
    "- total number of customers\n",
    "- total value of sales\n",
    "- average value of sales per customer\n",
    "- average order value\n",
    "\n",
    "Because there are a number of countries with only one customer, we are going to group these customers as \"Other\" in our analysis."
   ]
  },
  {
   "cell_type": "code",
   "execution_count": 44,
   "metadata": {
    "collapsed": false
   },
   "outputs": [
    {
     "data": {
      "text/html": [
       "<div>\n",
       "<style scoped>\n",
       "    .dataframe tbody tr th:only-of-type {\n",
       "        vertical-align: middle;\n",
       "    }\n",
       "\n",
       "    .dataframe tbody tr th {\n",
       "        vertical-align: top;\n",
       "    }\n",
       "\n",
       "    .dataframe thead th {\n",
       "        text-align: right;\n",
       "    }\n",
       "</style>\n",
       "<table border=\"1\" class=\"dataframe\">\n",
       "  <thead>\n",
       "    <tr style=\"text-align: right;\">\n",
       "      <th></th>\n",
       "      <th>n_customers</th>\n",
       "      <th>total_sales</th>\n",
       "      <th>avg_spent_per_customer</th>\n",
       "      <th>avg_order_value</th>\n",
       "    </tr>\n",
       "    <tr>\n",
       "      <th>country</th>\n",
       "      <th></th>\n",
       "      <th></th>\n",
       "      <th></th>\n",
       "      <th></th>\n",
       "    </tr>\n",
       "  </thead>\n",
       "  <tbody>\n",
       "    <tr>\n",
       "      <th>USA</th>\n",
       "      <td>13</td>\n",
       "      <td>1040.49</td>\n",
       "      <td>80.037692</td>\n",
       "      <td>7.942672</td>\n",
       "    </tr>\n",
       "    <tr>\n",
       "      <th>Canada</th>\n",
       "      <td>8</td>\n",
       "      <td>535.59</td>\n",
       "      <td>66.948750</td>\n",
       "      <td>7.047237</td>\n",
       "    </tr>\n",
       "    <tr>\n",
       "      <th>Brazil</th>\n",
       "      <td>5</td>\n",
       "      <td>427.68</td>\n",
       "      <td>85.536000</td>\n",
       "      <td>7.011148</td>\n",
       "    </tr>\n",
       "    <tr>\n",
       "      <th>France</th>\n",
       "      <td>5</td>\n",
       "      <td>389.07</td>\n",
       "      <td>77.814000</td>\n",
       "      <td>7.781400</td>\n",
       "    </tr>\n",
       "    <tr>\n",
       "      <th>Germany</th>\n",
       "      <td>4</td>\n",
       "      <td>334.62</td>\n",
       "      <td>83.655000</td>\n",
       "      <td>8.161463</td>\n",
       "    </tr>\n",
       "    <tr>\n",
       "      <th>United Kingdom</th>\n",
       "      <td>3</td>\n",
       "      <td>245.52</td>\n",
       "      <td>81.840000</td>\n",
       "      <td>8.768571</td>\n",
       "    </tr>\n",
       "    <tr>\n",
       "      <th>Czech Republic</th>\n",
       "      <td>2</td>\n",
       "      <td>273.24</td>\n",
       "      <td>136.620000</td>\n",
       "      <td>9.108000</td>\n",
       "    </tr>\n",
       "    <tr>\n",
       "      <th>India</th>\n",
       "      <td>2</td>\n",
       "      <td>183.15</td>\n",
       "      <td>91.575000</td>\n",
       "      <td>8.721429</td>\n",
       "    </tr>\n",
       "    <tr>\n",
       "      <th>Portugal</th>\n",
       "      <td>2</td>\n",
       "      <td>185.13</td>\n",
       "      <td>92.565000</td>\n",
       "      <td>6.383793</td>\n",
       "    </tr>\n",
       "    <tr>\n",
       "      <th>Other</th>\n",
       "      <td>15</td>\n",
       "      <td>1094.94</td>\n",
       "      <td>72.996000</td>\n",
       "      <td>7.448571</td>\n",
       "    </tr>\n",
       "  </tbody>\n",
       "</table>\n",
       "</div>"
      ],
      "text/plain": [
       "                n_customers  total_sales  avg_spent_per_customer  \\\n",
       "country                                                            \n",
       "USA                      13      1040.49               80.037692   \n",
       "Canada                    8       535.59               66.948750   \n",
       "Brazil                    5       427.68               85.536000   \n",
       "France                    5       389.07               77.814000   \n",
       "Germany                   4       334.62               83.655000   \n",
       "United Kingdom            3       245.52               81.840000   \n",
       "Czech Republic            2       273.24              136.620000   \n",
       "India                     2       183.15               91.575000   \n",
       "Portugal                  2       185.13               92.565000   \n",
       "Other                    15      1094.94               72.996000   \n",
       "\n",
       "                avg_order_value  \n",
       "country                          \n",
       "USA                    7.942672  \n",
       "Canada                 7.047237  \n",
       "Brazil                 7.011148  \n",
       "France                 7.781400  \n",
       "Germany                8.161463  \n",
       "United Kingdom         8.768571  \n",
       "Czech Republic         9.108000  \n",
       "India                  8.721429  \n",
       "Portugal               6.383793  \n",
       "Other                  7.448571  "
      ]
     },
     "execution_count": 44,
     "metadata": {},
     "output_type": "execute_result"
    }
   ],
   "source": [
    "sales_per_country = \"\"\"\n",
    "WITH sales_per_country AS\n",
    "    (\n",
    "        SELECT\n",
    "            s.country,\n",
    "            COUNT(s.customer_id) num_customers,\n",
    "            TOTAL(s.total_spent) total_sales,\n",
    "            SUM(s.num_purchases) num_purchases,\n",
    "            CASE\n",
    "                WHEN COUNT(s.customer_id) = 1 THEN 'Other'\n",
    "                ELSE s.country\n",
    "            END AS cust_country\n",
    "        FROM sales_per_customer s\n",
    "        GROUP BY 1\n",
    "    )\n",
    "    \n",
    "SELECT\n",
    "    cust_country country,\n",
    "    SUM(num_customers) n_customers,\n",
    "    TOTAL(total_sales) total_sales,\n",
    "    TOTAL(total_sales) / SUM(num_customers) avg_spent_per_customer,\n",
    "    TOTAL(total_sales) / SUM(num_purchases) avg_order_value\n",
    "FROM\n",
    "    (\n",
    "        SELECT\n",
    "            s.*,\n",
    "            CASE\n",
    "                WHEN s.cust_country = 'Other' THEN 1\n",
    "                ELSE 0\n",
    "            END AS sort\n",
    "        FROM sales_per_country s\n",
    "    )\n",
    "    \n",
    "GROUP BY 1\n",
    "ORDER BY sort, 2 DESC\n",
    "\n",
    "\"\"\"\n",
    "\n",
    "spc = run_query(sales_per_country)\n",
    "spc = spc.set_index('country')\n",
    "spc"
   ]
  },
  {
   "cell_type": "code",
   "execution_count": 90,
   "metadata": {
    "collapsed": false
   },
   "outputs": [
    {
     "data": {
      "text/plain": [
       "<matplotlib.axes._subplots.AxesSubplot at 0x7efc8a919c50>"
      ]
     },
     "execution_count": 90,
     "metadata": {},
     "output_type": "execute_result"
    },
    {
     "data": {
      "image/png": "[encoded data removed]",
      "text/plain": [
       "<matplotlib.figure.Figure at 0x7efc8ae98f28>"
      ]
     },
     "metadata": {},
     "output_type": "display_data"
    }
   ],
   "source": [
    "colors = [(0, 0, 0), (0.5, 0, 0), (0.5, 0.5, 0), (0.5, 0.5, 0.5), (1, 0, 0), (1, 0.5, 0), (1, 0.25, 0.5), (1, 1, 0), (1, 0.75, 0.75), (1, 1, 1)]\n",
    "\n",
    "spc.plot(kind='bar', figsize=(10,6), y='n_customers', legend=False, title='Number of Customers Per Country', color=colors)"
   ]
  },
  {
   "cell_type": "code",
   "execution_count": 91,
   "metadata": {
    "collapsed": false
   },
   "outputs": [
    {
     "data": {
      "text/plain": [
       "<matplotlib.axes._subplots.AxesSubplot at 0x7efc8a8447f0>"
      ]
     },
     "execution_count": 91,
     "metadata": {},
     "output_type": "execute_result"
    },
    {
     "data": {
      "image/png": "[encoded data removed]",
      "text/plain": [
       "<matplotlib.figure.Figure at 0x7efc8a8c4668>"
      ]
     },
     "metadata": {},
     "output_type": "display_data"
    }
   ],
   "source": [
    "spc.plot(kind='bar', y='total_sales', figsize=(10,6), legend=False, title='Total Sales Per Country', color=colors)"
   ]
  },
  {
   "cell_type": "code",
   "execution_count": 92,
   "metadata": {
    "collapsed": false
   },
   "outputs": [
    {
     "data": {
      "text/plain": [
       "<matplotlib.axes._subplots.AxesSubplot at 0x7efc8a7957f0>"
      ]
     },
     "execution_count": 92,
     "metadata": {},
     "output_type": "execute_result"
    },
    {
     "data": {
      "image/png": "[encoded data removed]",
      "text/plain": [
       "<matplotlib.figure.Figure at 0x7efc8a7269b0>"
      ]
     },
     "metadata": {},
     "output_type": "display_data"
    }
   ],
   "source": [
    "spc[:-1].plot(kind='bar', y='avg_spent_per_customer', figsize=(10,6), legend=False, title='Average Spent Per Customer', color=colors)"
   ]
  },
  {
   "cell_type": "code",
   "execution_count": 93,
   "metadata": {
    "collapsed": false
   },
   "outputs": [
    {
     "data": {
      "text/plain": [
       "<matplotlib.axes._subplots.AxesSubplot at 0x7efc8a7a7c88>"
      ]
     },
     "execution_count": 93,
     "metadata": {},
     "output_type": "execute_result"
    },
    {
     "data": {
      "image/png": "[encoded data removed]",
      "text/plain": [
       "<matplotlib.figure.Figure at 0x7efc8a6b22b0>"
      ]
     },
     "metadata": {},
     "output_type": "display_data"
    }
   ],
   "source": [
    "spc[:-1].plot(kind='bar', y='avg_order_value', figsize=(10,6), legend=False, title='Average Value Per Order', color=colors)"
   ]
  },
  {
   "cell_type": "markdown",
   "metadata": {},
   "source": [
    "While countries grouped into \"Other\" make up a sizeable portion of total sales, they each had just one customer, which provides very little in the way of useful per-country data for running averages; thus, we left them out of the final two graphs.\n",
    "\n",
    "As it is, the USA makes up a large amount of total sales, and its average spent-per-customer and average value-per-order values are on the lower end of the spectrum; making concentrating marketing efforts here seem unnecessary.\n",
    "\n",
    "As for the other countries with multiple customers, of particular note are the Czech Republic and India (and the UK, to a lessser extent), who have two of the highest values for both average spent-per-customer and average value-per-order, but are two of the lowest in terms of total customers.  Given these numbers, there may be a lot of growth potential in those countries.\n",
    "\n",
    "Based on our analysis, the recommendation is to concentrate marketing efforts, in particular, on the Czech Republic, India, and the UK."
   ]
  },
  {
   "cell_type": "markdown",
   "metadata": {
    "collapsed": true
   },
   "source": [
    "## Albums vs. Individual Tracks\n",
    "\n",
    "The Chinook store is setup in a way that allows customer to make purchases in one of two ways:\n",
    "\n",
    "- purchase a whole album\n",
    "- purchase a collection of one or more individual tracks.\n",
    "\n",
    "The store does not let customers purchase a whole album, and then add individual tracks to that same purchase (unless they do that by choosing each track manually). When customers purchase albums they are charged the same price as if they had purchased each of those tracks separately.\n",
    "\n",
    "Management are currently considering changing their purchasing strategy to save money. The strategy they are considering is to purchase only the most popular tracks from each album from record companies, instead of purchasing every track from an album.\n",
    "\n",
    "We have been asked to find out what percentage of purchases are individual tracks vs whole albums, so that management can use this data to understand the effect this decision might have on overall revenue.\n",
    "\n",
    "We have two edge cases to consider:\n",
    "\n",
    "- Albums that have only one or two tracks are likely to be purchased by customers as part of a collection of individual tracks.\n",
    "- Customers may decide to manually select every track from an album, and then add a few individual tracks from other albums to their purchase.\n",
    "\n",
    "In the first case, since our analysis is concerned with maximizing revenue we can safely ignore albums consisting of only a few tracks. The company has previously done analysis to confirm that the second case does not happen often, so we can ignore this case also.\n",
    "\n",
    "In order to answer the question, we're going to have to identify whether each invoice has all the tracks from an album. We can do this by getting the list of tracks from an invoice and comparing it to the list of tracks from an album. We can find the album to compare the purchase to by looking up the album that one of the purchased tracks belongs to. It doesn't matter which track we pick, since if it's an album purchase, that album will be the same for all tracks."
   ]
  },
  {
   "cell_type": "code",
   "execution_count": 134,
   "metadata": {
    "collapsed": false
   },
   "outputs": [
    {
     "data": {
      "text/html": [
       "<div>\n",
       "<style scoped>\n",
       "    .dataframe tbody tr th:only-of-type {\n",
       "        vertical-align: middle;\n",
       "    }\n",
       "\n",
       "    .dataframe tbody tr th {\n",
       "        vertical-align: top;\n",
       "    }\n",
       "\n",
       "    .dataframe thead th {\n",
       "        text-align: right;\n",
       "    }\n",
       "</style>\n",
       "<table border=\"1\" class=\"dataframe\">\n",
       "  <thead>\n",
       "    <tr style=\"text-align: right;\">\n",
       "      <th></th>\n",
       "      <th>is_album</th>\n",
       "      <th>n_invoices</th>\n",
       "      <th>pct_of_total</th>\n",
       "    </tr>\n",
       "  </thead>\n",
       "  <tbody>\n",
       "    <tr>\n",
       "      <th>0</th>\n",
       "      <td>N</td>\n",
       "      <td>500</td>\n",
       "      <td>81.43</td>\n",
       "    </tr>\n",
       "    <tr>\n",
       "      <th>1</th>\n",
       "      <td>Y</td>\n",
       "      <td>114</td>\n",
       "      <td>18.57</td>\n",
       "    </tr>\n",
       "  </tbody>\n",
       "</table>\n",
       "</div>"
      ],
      "text/plain": [
       "  is_album  n_invoices  pct_of_total\n",
       "0        N         500         81.43\n",
       "1        Y         114         18.57"
      ]
     },
     "execution_count": 134,
     "metadata": {},
     "output_type": "execute_result"
    }
   ],
   "source": [
    "test = \"\"\"\n",
    "WITH\n",
    "\n",
    "invoices_with_album AS\n",
    "    (\n",
    "        SELECT\n",
    "            i.invoice_id,\n",
    "            t.album_id\n",
    "        FROM invoice_line il\n",
    "        LEFT JOIN invoice i ON i.invoice_id = il.invoice_id\n",
    "        LEFT JOIN track t ON il.track_id = t.track_id\n",
    "        GROUP BY 1\n",
    "    ),\n",
    "\n",
    "invoice_is_album AS\n",
    "    (\n",
    "        SELECT\n",
    "            i.invoice_id,\n",
    "            CASE\n",
    "                WHEN\n",
    "                    (\n",
    "                    SELECT track_id\n",
    "                    FROM invoice_line\n",
    "                    WHERE invoice_id = i.invoice_id\n",
    "\n",
    "                    EXCEPT\n",
    "\n",
    "                    SELECT track_id\n",
    "                    FROM track\n",
    "                    WHERE album_id = i.album_id\n",
    "                    ) IS NULL\n",
    "\n",
    "                    AND\n",
    "\n",
    "                    (\n",
    "                    SELECT track_id\n",
    "                    FROM track\n",
    "                    WHERE album_id = i.album_id\n",
    "\n",
    "                    EXCEPT\n",
    "\n",
    "                    SELECT track_id\n",
    "                    FROM invoice_line\n",
    "                    WHERE invoice_id = i.invoice_id\n",
    "                    ) IS NULL\n",
    "\n",
    "                THEN 'Y'\n",
    "                ELSE 'N'\n",
    "                END AS is_album\n",
    "\n",
    "        FROM invoices_with_album i\n",
    "        ORDER BY 1\n",
    "    )\n",
    "    \n",
    "SELECT\n",
    "    is_album,\n",
    "    COUNT(*) n_invoices,\n",
    "    ROUND(CAST(COUNT(*) AS FLOAT) / CAST((SELECT COUNT(*) FROM invoice) AS FLOAT) * 100, 2) pct_of_total\n",
    "FROM invoice_is_album\n",
    "GROUP BY is_album\n",
    "\n",
    "\n",
    "\"\"\"\n",
    "\n",
    "run_query(test)"
   ]
  },
  {
   "cell_type": "markdown",
   "metadata": {},
   "source": [
    "Above, comparing the list of tracks from each invoice with the list of tracks from associated albums, we were able to establish a `Y` or `N` value for whether each invoice represented a full-album purchase or not.\n",
    "\n",
    "We find that an overwhelming majority (~81%) of purchases were not straight full-album purchases, but rather sets of individually selected tracks.\n",
    "\n",
    "Based on this data, the general prospective recommendation would be to not continue to buy full albums from record companies."
   ]
  }
 ],
 "metadata": {
  "kernelspec": {
   "display_name": "Python 3",
   "language": "python",
   "name": "python3"
  },
  "language_info": {
   "codemirror_mode": {
    "name": "ipython",
    "version": 3
   },
   "file_extension": ".py",
   "mimetype": "text/x-python",
   "name": "python",
   "nbconvert_exporter": "python",
   "pygments_lexer": "ipython3",
   "version": "3.4.3"
  }
 },
 "nbformat": 4,
 "nbformat_minor": 2
}
